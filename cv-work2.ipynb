{
 "cells": [
  {
   "cell_type": "markdown",
   "metadata": {},
   "source": [
    "## 导入所需要的库"
   ]
  },
  {
   "cell_type": "code",
   "execution_count": null,
   "metadata": {},
   "outputs": [],
   "source": [
    "import os\n",
    "import cv2\n",
    "import logging\n",
    "import tensorflow as tf\n",
    "import face_recognition\n",
    "import math\n",
    "import numpy as np\n",
    "import dlib\n",
    "import tensorflow\n",
    "import PythonMagick\n",
    "import matplotlib\n",
    "import matplotlib.pyplot as plt\n",
    "from scipy import linalg,ndimage,signal\n",
    "from numpy import array,zeros\n",
    "from scipy.ndimage import filters\n",
    "from PIL import Image \n",
    "from skimage import util, img_as_float, io\n",
    "from pylab import *"
   ]
  },
  {
   "cell_type": "markdown",
   "metadata": {},
   "source": [
    "## 调整字体大小"
   ]
  },
  {
   "cell_type": "code",
   "execution_count": null,
   "metadata": {},
   "outputs": [],
   "source": [
    "font_set = matplotlib.font_manager.FontProperties(fname=r\"c:\\windows\\fonts\\msyh.ttc\", size=8)"
   ]
  },
  {
   "cell_type": "markdown",
   "metadata": {},
   "source": [
    "## 构建高斯金字塔"
   ]
  },
  {
   "cell_type": "code",
   "execution_count": null,
   "metadata": {},
   "outputs": [],
   "source": [
    "def make_pyramid(ori_img, down_times):\n",
    "    now_img = ori_img.copy()\n",
    "    gaussian_pyramid = []\n",
    "    gaussian_pyramid.append(now_img)\n",
    "    for i in range(down_times):\n",
    "        now_img = cv2.pyrDown(now_img)\n",
    "        gaussian_pyramid.append(now_img)\n",
    "    return gaussian_pyramid"
   ]
  },
  {
   "cell_type": "markdown",
   "metadata": {},
   "source": [
    "## 读取一张图片并建立高斯金字塔"
   ]
  },
  {
   "cell_type": "code",
   "execution_count": null,
   "metadata": {},
   "outputs": [],
   "source": [
    "img = cv2.imread(\"4.jpg\")\n",
    "img = cv2.cvtColor(img, cv2.COLOR_BGR2RGB)\n",
    "pyramid = make_pyramid(img,4)\n",
    " \n",
    "fig, axes = plt.subplots(1, 5, dpi=300)\n",
    "for idx, img in enumerate(pyramid):\n",
    "    ax = axes[idx]\n",
    "    ax.tick_params(direction='in', top=False, bottom=False, left=False, right=False, labelsize=4)\n",
    "    ax.set_xlabel(f\"第{idx}层图像\",fontproperties=font_set,fontsize=6)\n",
    "    ax.imshow(img)\n",
    "plt.show()\n"
   ]
  },
  {
   "cell_type": "markdown",
   "metadata": {},
   "source": [
    "## 添加椒盐噪声"
   ]
  },
  {
   "cell_type": "code",
   "execution_count": null,
   "metadata": {},
   "outputs": [],
   "source": [
    "def AddSaltAndPepperNosie(img, pro):\n",
    "    noise = np.random.uniform(0, 255, img[:, :, 0].shape)\n",
    "    mask = noise < pro * 255\n",
    "    mask = np.expand_dims(mask, axis=2)\n",
    "    mask = np.repeat(mask, 3, axis=2)\n",
    "    img = img * (1 - mask)\n",
    "    mask = noise > 255 - pro * 255\n",
    "    mask = np.expand_dims(mask, axis=2)\n",
    "    mask = np.repeat(mask, 3, axis=2)\n",
    "    img = 255 * mask + img * (1 - mask)\n",
    "    return img"
   ]
  },
  {
   "cell_type": "markdown",
   "metadata": {},
   "source": [
    "## 添加高斯噪声"
   ]
  },
  {
   "cell_type": "code",
   "execution_count": null,
   "metadata": {},
   "outputs": [],
   "source": [
    "def AddGaussNoise(img, sigma, mean=0):\n",
    "    noise = np.random.normal(mean, sigma, img.shape).astype(np.float)\n",
    "    img = img + noise\n",
    "    img = np.clip(img, 0, 255).astype(np.uint8)\n",
    "    return img"
   ]
  },
  {
   "cell_type": "markdown",
   "metadata": {},
   "source": [
    "## 读取一张图片并添加相应的噪声"
   ]
  },
  {
   "cell_type": "code",
   "execution_count": null,
   "metadata": {},
   "outputs": [],
   "source": [
    "img = cv2.imread('4.jpg')\n",
    "img = cv2.cvtColor(img, cv2.COLOR_BGR2RGB)\n",
    "plt.figure(dpi=200)\n",
    "plt.legend(prop={'family':'SimHei','size':15})\n",
    "\n",
    "plt.subplot(1, 3, 1)\n",
    "plt.title(\"原图\",fontproperties=font_set)\n",
    "plt.imshow(img)\n",
    "\n",
    "noiseImgGauss = AddGaussNoise(img, 20, 0)\n",
    "plt.subplot(1, 3, 2)\n",
    "plt.title(\"高斯噪声\",fontproperties=font_set)\n",
    "plt.imshow(noiseImgGauss)\n",
    "\n",
    "noiseImgSalt = AddSaltAndPepperNosie(img, 0.1)\n",
    "plt.subplot(1, 3, 3)\n",
    "plt.title(\"椒盐噪声\",fontproperties=font_set)\n",
    "plt.imshow(noiseImgSalt)\n"
   ]
  },
  {
   "cell_type": "markdown",
   "metadata": {},
   "source": [
    "## 展示添加噪声+平滑"
   ]
  },
  {
   "cell_type": "code",
   "execution_count": null,
   "metadata": {},
   "outputs": [],
   "source": [
    "plt.figure(dpi=400)\n",
    "plt.rc('font', family='Times New Roman', size=4)\n",
    "img_gauss_gauss = cv2.GaussianBlur(noiseImgGauss, (5, 5), 5)\n",
    "plt.subplot(1,4,1)\n",
    "plt.title(\"高斯噪声+高斯平滑\",fontproperties=font_set)\n",
    "plt.imshow(img_gauss_gauss)\n",
    "img_gauss_mid = cv2.medianBlur(np.uint8(noiseImgGauss), 3)\n",
    "plt.subplot(1,4,2)\n",
    "plt.title(\"高斯噪声+均值滤波\",fontproperties=font_set)\n",
    "plt.imshow(img_gauss_mid)\n",
    "img_salt_gauss = cv2.GaussianBlur(np.uint8(noiseImgSalt), (5, 5), 5)\n",
    "plt.subplot(1,4,3)\n",
    "plt.imshow(img_salt_gauss)\n",
    "plt.title(\"椒盐噪声+高斯平滑\",fontproperties=font_set)\n",
    "img_salt_mid = cv2.medianBlur(np.uint8(noiseImgSalt), 3)\n",
    "plt.subplot(1,4,4)\n",
    "plt.imshow(img_salt_mid)\n",
    "plt.title(\"椒盐噪声+均值滤波\",fontproperties=font_set)\n",
    "plt.show()"
   ]
  },
  {
   "cell_type": "code",
   "execution_count": null,
   "metadata": {},
   "outputs": [],
   "source": [
    "plt.figure(dpi=400)\n",
    "\n",
    "plt.subplot(1,3,1)\n",
    "plt.title(\"高斯噪声\",fontproperties=font_set)\n",
    "plt.imshow(noiseImgGauss)\n",
    "plt.subplot(1,3,2)\n",
    "plt.title(\"高斯噪声+高斯平滑\",fontproperties=font_set)\n",
    "plt.imshow(img_gauss_gauss)\n",
    "plt.subplot(1,3,3)\n",
    "plt.title(\"高斯噪声+均值滤波\",fontproperties=font_set)\n",
    "plt.imshow(img_gauss_mid)\n",
    "plt.show()\n",
    "plt.figure(dpi=400)\n",
    "plt.subplot(1,3,1)\n",
    "plt.imshow(noiseImgSalt)\n",
    "plt.title(\"椒盐噪声\",fontproperties=font_set)\n",
    "plt.subplot(1,3,2)\n",
    "plt.imshow(img_salt_gauss)\n",
    "plt.title(\"椒盐噪声+高斯平滑\",fontproperties=font_set)\n",
    "plt.subplot(1,3,3)\n",
    "plt.imshow(img_salt_mid)\n",
    "plt.title(\"椒盐噪声+均值滤波\",fontproperties=font_set)\n",
    "plt.show()"
   ]
  },
  {
   "cell_type": "markdown",
   "metadata": {},
   "source": [
    "## 计算相应的误差"
   ]
  },
  {
   "cell_type": "code",
   "execution_count": null,
   "metadata": {},
   "outputs": [],
   "source": [
    "def calc_rmse(img1, img2):\n",
    "    rmse = np.mean((img1 - img2) ** 2)\n",
    "    rmse = np.sqrt(rmse)\n",
    "    return rmse\n",
    "rmuse1 = calc_rmse(noiseImgGauss, img)\n",
    "print(rmuse1)\n",
    "rmuse2 = calc_rmse(noiseImgSalt, img)\n",
    "print(rmuse2)\n",
    "rmuse3 = calc_rmse(img_gauss_gauss, img)\n",
    "print(rmuse3)\n",
    "rmuse4 = calc_rmse(img_gauss_mid, img)\n",
    "print(rmuse4)\n",
    "rmuse5 = calc_rmse(img_salt_gauss, img)\n",
    "print(rmuse5)\n",
    "rmuse6 = calc_rmse(img_salt_mid, img)\n",
    "print(rmuse6)"
   ]
  },
  {
   "cell_type": "markdown",
   "metadata": {},
   "source": [
    "## 滤波代码"
   ]
  },
  {
   "cell_type": "code",
   "execution_count": null,
   "metadata": {},
   "outputs": [],
   "source": [
    "img = cv2.imread('3.jpg')  \n",
    "plt.figure(dpi=400)\n",
    "\n",
    "img = cv2.cvtColor(img, cv2.COLOR_BGR2RGB)\n",
    "plt.subplot(2,2,1)\n",
    "plt.title(\"原图\",fontproperties=font_set)\n",
    "plt.imshow(img)\n",
    "\n",
    "plt.subplot(2,2,3)\n",
    "img2 = cv2.Laplacian(img, cv2.CV_8U) \n",
    "plt.title(\"拉普拉斯滤波\",fontproperties=font_set)\n",
    "plt.imshow(img2)\n",
    "\n",
    "img3 = cv2.Sobel(img, cv2.CV_8U, 0, 1)\n",
    "plt.subplot(2,2,2)\n",
    "plt.title(\"Sobel算子\",fontproperties=font_set)\n",
    "plt.imshow(img3)\n",
    "\n",
    "img4 = cv2.Canny(img,cv2.CV_8U,200, 300)\n",
    "plt.subplot(2,2,4)\n",
    "plt.title(\"Canny滤波\",fontproperties=font_set)\n",
    "plt.imshow(img4)\n",
    "img5=img+img2"
   ]
  },
  {
   "cell_type": "markdown",
   "metadata": {},
   "source": [
    "## 计算对应的梯度、幅度"
   ]
  },
  {
   "cell_type": "code",
   "execution_count": null,
   "metadata": {},
   "outputs": [],
   "source": [
    "img = cv2.imread('3.jpg') \n",
    "plt.figure(dpi=400)\n",
    "#x梯度\n",
    "imgx=cv2.Sobel(img,cv2.CV_8U,1,0)\n",
    "imgx=Image.fromarray(cv2.cvtColor(imgx, cv2.COLOR_BGR2RGB))\n",
    "imgx=array(imgx)\n",
    "imgx = cv2.normalize(imgx, None, 0, 255, cv2.NORM_MINMAX).astype(np.uint8)\n",
    "heat_imgx = cv2.applyColorMap(imgx, cv2.COLORMAP_HOT)\n",
    "plt.subplot(2, 2, 1)\n",
    "plt.title(\"X方向梯度\",fontproperties=font_set)\n",
    "plt.imshow(heat_imgx)\n",
    "#y梯度\n",
    "imgy=cv2.Sobel(img,cv2.CV_8U,0,1)\n",
    "imgy=Image.fromarray(imgy)\n",
    "imgy=array(imgy)\n",
    "imgy = cv2.normalize(imgy, None, 0, 255, cv2.NORM_MINMAX).astype(np.uint8)\n",
    "heat_imgy = cv2.applyColorMap(imgy, cv2.COLORMAP_HOT)\n",
    "plt.subplot(2, 2, 2)\n",
    "plt.title(\"Y方向梯度\",fontproperties=font_set)\n",
    "plt.imshow(heat_imgy)\n",
    "#计算幅度\n",
    "A = cv2.magnitude(np.float32(imgx), np.float32(imgy))\n",
    "A = cv2.normalize(A, None, 0, 255, cv2.NORM_MINMAX).astype(np.uint8)\n",
    "A_heat = cv2.applyColorMap(A, cv2.COLORMAP_HOT)\n",
    "plt.subplot(2, 2, 3)\n",
    "plt.title(\"梯度幅度\",fontproperties=font_set)\n",
    "plt.imshow(A_heat)\n",
    "# 计算角度\n",
    "an = cv2.phase(np.float32(imgx), np.float32(imgy), True)\n",
    "an = cv2.normalize(an, None, 0, 255, cv2.NORM_MINMAX).astype(np.uint8)\n",
    "an_heat = cv2.applyColorMap(an, cv2.COLORMAP_HOT)\n",
    "plt.subplot(2, 2, 4)\n",
    "plt.title(\"梯度角度\",fontproperties=font_set)\n",
    "plt.imshow(an_heat)\n",
    "plt.show()\n"
   ]
  },
  {
   "cell_type": "markdown",
   "metadata": {},
   "source": [
    "## 展示原图+拉普拉斯滤波"
   ]
  },
  {
   "cell_type": "code",
   "execution_count": null,
   "metadata": {},
   "outputs": [],
   "source": [
    "img = cv2.imread('3.jpg') \n",
    "img = cv2.cvtColor(img, cv2.COLOR_BGR2RGB)\n",
    "plt.figure(dpi=400)\n",
    "plt.subplot(1,2,1)\n",
    "plt.title(\"原图\",fontproperties=font_set)\n",
    "plt.imshow(img)\n",
    "plt.subplot(1,2,2)\n",
    "plt.title(\"原图+拉普拉斯滤波\",fontproperties=font_set)\n",
    "plt.imshow(img5)\n",
    "plt.show()"
   ]
  }
 ],
 "metadata": {
  "kernelspec": {
   "display_name": "Python 3",
   "language": "python",
   "name": "python3"
  },
  "language_info": {
   "codemirror_mode": {
    "name": "ipython",
    "version": 3
   },
   "file_extension": ".py",
   "mimetype": "text/x-python",
   "name": "python",
   "nbconvert_exporter": "python",
   "pygments_lexer": "ipython3",
   "version": "3.8.3"
  }
 },
 "nbformat": 4,
 "nbformat_minor": 4
}
